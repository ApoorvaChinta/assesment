{
  "nbformat": 4,
  "nbformat_minor": 0,
  "metadata": {
    "colab": {
      "name": "User_Engagement.ipynb",
      "provenance": [],
      "mount_file_id": "1ONE77gjC76RfvTxj8gZchDFsImziOG1o",
      "authorship_tag": "ABX9TyNZWaDUhEk4c8i2AhNZpJl2",
      "include_colab_link": true
    },
    "kernelspec": {
      "name": "python3",
      "display_name": "Python 3"
    },
    "language_info": {
      "name": "python"
    }
  },
  "cells": [
    {
      "cell_type": "markdown",
      "metadata": {
        "id": "view-in-github",
        "colab_type": "text"
      },
      "source": [
        "<a href=\"https://colab.research.google.com/github/ApoorvaChinta/assesment/blob/main/User_Engagement.ipynb\" target=\"_parent\"><img src=\"https://colab.research.google.com/assets/colab-badge.svg\" alt=\"Open In Colab\"/></a>"
      ]
    },
    {
      "cell_type": "code",
      "execution_count": null,
      "metadata": {
        "id": "inogGmknR6wV"
      },
      "outputs": [],
      "source": [
        "import pandas as pd\n",
        "import numpy as np"
      ]
    },
    {
      "cell_type": "code",
      "source": [
        "users=pd.read_csv('/content/drive/MyDrive/takehome_user_engagement.csv')\n",
        "users_engagement=pd.read_csv('/content/drive/MyDrive/takehome_user_engagement.csv')"
      ],
      "metadata": {
        "id": "yqX6ir76U47O"
      },
      "execution_count": null,
      "outputs": []
    },
    {
      "cell_type": "code",
      "source": [
        "users.rename(columns={'object_id': 'user_id' },inplace=True)\n",
        "main = pd.merge(users,users_engagement,on='user_id',how='right')"
      ],
      "metadata": {
        "id": "XzWCIC4_SB4O"
      },
      "execution_count": null,
      "outputs": []
    },
    {
      "cell_type": "code",
      "source": [
        "main['creation_time'] = pd.to_datetime(main['creation_time'])\n",
        "main['time_stamp'] = pd.to_datetime(main['time_stamp'])\n",
        "main['last_session_creation_time'] = pd.to_datetime(main['last_session_creation_time'],unit='s')\n",
        "\n"
      ],
      "metadata": {
        "id": "sSbiaSxmSL2m"
      },
      "execution_count": null,
      "outputs": []
    },
    {
      "cell_type": "code",
      "source": [
        "main.isna().sum()/len(main)*100"
      ],
      "metadata": {
        "colab": {
          "base_uri": "https://localhost:8080/"
        },
        "id": "bB6fEVIEVqXf",
        "outputId": "6e35da77-a95d-455b-cdad-b7807fb22dba"
      },
      "execution_count": null,
      "outputs": [
        {
          "output_type": "execute_result",
          "data": {
            "text/plain": [
              "time_stamp_x    0.0\n",
              "user_id         0.0\n",
              "visited_x       0.0\n",
              "time_stamp_y    0.0\n",
              "visited_y       0.0\n",
              "dtype: float64"
            ]
          },
          "metadata": {},
          "execution_count": 12
        }
      ]
    },
    {
      "cell_type": "code",
      "source": [
        "main.drop(columns='invited_by_user_id',axis=1,inplace=True)"
      ],
      "metadata": {
        "id": "4O6neYNpVzMN"
      },
      "execution_count": null,
      "outputs": []
    },
    {
      "cell_type": "code",
      "source": [
        "#Creating week\n",
        "main['week'] = main['last_session_creation_time'].dt.week"
      ],
      "metadata": {
        "id": "QlaLJbBmSWpc"
      },
      "execution_count": null,
      "outputs": []
    },
    {
      "cell_type": "code",
      "source": [
        "groupby_week = main.groupby(['user_id','week','creation_source','opted_in_to_mailing_list','enabled_for_marketing_drip','org_id'])['visited'].count().reset_index()\n",
        "groupby_week.tail(10)"
      ],
      "metadata": {
        "id": "IA_z7la9SaM_"
      },
      "execution_count": null,
      "outputs": []
    },
    {
      "cell_type": "code",
      "source": [
        "adopted_user = groupby_week.loc[groupby_week['visited'] >= 3]\n",
        "print(\"Total adopted users are - \",len(adopted_user))"
      ],
      "metadata": {
        "id": "uiZIhdpFScmV"
      },
      "execution_count": null,
      "outputs": []
    },
    {
      "cell_type": "code",
      "source": [
        "groupby_week['adopted_user'] = groupby_week['visited'].apply(lambda x: 'yes' if x >= 3 else 'No') "
      ],
      "metadata": {
        "id": "WyIxBFQMSfNX"
      },
      "execution_count": null,
      "outputs": []
    },
    {
      "cell_type": "code",
      "source": [
        "groupby_week.to_csv(\"Cleaned.csv\")"
      ],
      "metadata": {
        "id": "N2CnzflRShLT"
      },
      "execution_count": null,
      "outputs": []
    },
    {
      "cell_type": "code",
      "source": [
        "import seaborn as sns\n",
        "import matplotlib.pyplot as plt\n",
        "plt.figure(figsize=(10,5))\n",
        "sns.countplot(y=groupby_week.adopted_user)"
      ],
      "metadata": {
        "id": "qDCdLjVrSj8v"
      },
      "execution_count": null,
      "outputs": []
    },
    {
      "cell_type": "code",
      "source": [
        "#Label Encoding\n",
        "from sklearn.preprocessing import LabelEncoder\n",
        "le = LabelEncoder()\n",
        "#LabelEncoding categorical columns\n",
        "for column in groupby_week.columns:\n",
        "   if groupby_week[column].dtype == object:\n",
        "       groupby_week[column] = le.fit_transform(groupby_week[column])\n",
        "#Model Creation\n",
        "from sklearn.model_selection import train_test_split\n",
        "X = groupby_week.drop(columns=['visited','user_id','adopted_user'],axis=1)\n",
        "Y = groupby_week['adopted_user']\n",
        "x_train,x_test,y_train,y_test = train_test_split(X,Y,test_size=0.2,random_state=124)\n"
      ],
      "metadata": {
        "id": "MP9ydc2ySnNJ"
      },
      "execution_count": null,
      "outputs": []
    },
    {
      "cell_type": "code",
      "source": [
        "#Random Forest\n",
        "\n",
        "from sklearn.ensemble import RandomForestClassifier\n",
        "randomforest = RandomForestClassifier(n_estimators=150,max_depth=12,random_state=1455)\n",
        "randomforest.fit(x_train,y_train)\n",
        "RandomForestClassifier(max_depth=12, n_estimators=150, random_state=1455)\n",
        "randomforest_score = randomforest.score(x_test,y_test)*100\n",
        "print(\"Random Forest Score is \",randomforest_score) \n",
        "\n"
      ],
      "metadata": {
        "id": "0DF1rhvwSqZm"
      },
      "execution_count": null,
      "outputs": []
    },
    {
      "cell_type": "code",
      "source": [
        "#Decision Tree Classifier\n",
        "\n",
        "from sklearn.tree import DecisionTreeClassifier\n",
        "decisiontree = DecisionTreeClassifier(random_state=15,max_depth=0.1)\n",
        "decisiontree.fit(x_train,y_train)\n",
        "DecisionTreeClassifier(max_depth=0.1, random_state=15)\n",
        "decisiontree_score=decisiontree.score(x_test,y_test)*100\n",
        "print(\"Decision Tree Score is :\",decisiontree_score)"
      ],
      "metadata": {
        "id": "e2IBAK9hS23s"
      },
      "execution_count": null,
      "outputs": []
    },
    {
      "cell_type": "code",
      "source": [
        "#Logistic Regression\n",
        "\n",
        "from sklearn.linear_model import LogisticRegression\n",
        "from sklearn.metrics import accuracy_score\n",
        "logiregres = LogisticRegression()\n",
        "logiregres.fit(x_train,y_train)\n",
        "LogisticRegression()\n",
        "logistic_regression_Score = logiregres.score(x_test,y_test)*100\n",
        "print(\"Logistic Regression score is :\",logistic_regression_Score)"
      ],
      "metadata": {
        "id": "T_GzL9z-S7fX"
      },
      "execution_count": null,
      "outputs": []
    },
    {
      "cell_type": "code",
      "source": [
        "#XGBOOST Classifier\n",
        "\n",
        "from xgboost import XGBClassifier\n",
        "xgb = XGBClassifier(max_depth=2,n_estimators=240,learning_rate=0.1)\n",
        "xgb.fit(x_train,y_train)\n",
        "\n",
        "xgb_score = xgb.score(x_test,y_test)*100\n",
        "print(\"XGBoost  Score is :\",xgb_score)"
      ],
      "metadata": {
        "id": "qtiYxEeGTCxz"
      },
      "execution_count": null,
      "outputs": []
    },
    {
      "cell_type": "markdown",
      "source": [
        "Best fit model"
      ],
      "metadata": {
        "id": "6NSbYCrRTWLj"
      }
    },
    {
      "cell_type": "code",
      "source": [
        "print(\"Random Forest Score is \",randomforest_score) \n",
        "print(\"Logistic Regression score is :\",logistic_regression_Score)\n",
        "print(\"Decision Tree Score is :\",decisiontree_score)\n",
        "print(\"XGBoost  Score is :\",xgb_score)\n"
      ],
      "metadata": {
        "id": "Z2xCOzt4TCEG"
      },
      "execution_count": null,
      "outputs": []
    },
    {
      "cell_type": "code",
      "source": [
        "#Feature Importance\n",
        "\n",
        "feature_scores = pd.Series(randomforest.feature_importances_,index=x_train.columns).sort_values(ascending=False)\n",
        "feature_scores = feature_scores*100\n",
        "feature_scores"
      ],
      "metadata": {
        "id": "W8cDMeEYTZWT"
      },
      "execution_count": null,
      "outputs": []
    },
    {
      "cell_type": "code",
      "source": [
        "def find_max(nums):\n",
        "  max_num=float('-inf')\n",
        "  for num in nums:\n",
        "    num=max_num\n",
        "  return max_num"
      ],
      "metadata": {
        "id": "ChgVmr_ul12s"
      },
      "execution_count": null,
      "outputs": []
    }
  ]
}